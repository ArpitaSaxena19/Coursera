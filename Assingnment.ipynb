{
  "cells": [
    {
      "cell_type": "markdown",
      "metadata": {},
      "source": [
        "# My Jupyter Notebook on IBM Watson Studio"
      ]
    },
    {
      "cell_type": "code",
      "execution_count": null,
      "metadata": {},
      "outputs": [],
      "source": []
    },
    {
      "cell_type": "markdown",
      "metadata": {},
      "source": [
        "<b>Arpita Saxena</b><br>Software Engineer"
      ]
    },
    {
      "cell_type": "markdown",
      "metadata": {},
      "source": [
        "<i>There is soaring demand for datascientists throughout the industry nowadays.The importance od data is ever growing and hence I think having the skills of a datascientist is important these days</i>"
      ]
    },
    {
      "cell_type": "markdown",
      "metadata": {},
      "source": [
        "### The code below multiplies two numbers"
      ]
    },
    {
      "cell_type": "code",
      "execution_count": 6,
      "metadata": {
        "trusted": true
      },
      "outputs": [
        {
          "name": "stdout",
          "output_type": "stream",
          "text": [
            "56\n"
          ]
        }
      ],
      "source": [
        "one=7\n",
        "two=8\n",
        "print(one*two)"
      ]
    },
    {
      "cell_type": "markdown",
      "metadata": {},
      "source": [
        "##### This is horizontal line <br>\n",
        "<hr>\n",
        "<br>\n",
        "##### This is bulleted list\n",
        "<ul>\n",
        "<li>Data Science</li>\n",
        "<li>Data Structures</li>\n",
        "<li>Web Development</li>\n",
        "</ul>\n",
        "<br>\n",
        "##### This is ordered list or numbered list\n",
        "<ol>\n",
        "<li>Fish</li>\n",
        "<li>Eggs</li>\n",
        "<li>Cheese</li>\n",
        "</ol>"
      ]
    },
    {
      "cell_type": "code",
      "execution_count": null,
      "metadata": {},
      "outputs": [],
      "source": []
    }
  ],
  "metadata": {
    "kernelspec": {
      "display_name": "Pyolite",
      "language": "python",
      "name": "python"
    },
    "language_info": {
      "codemirror_mode": {
        "name": "python",
        "version": 3
      },
      "file_extension": ".py",
      "mimetype": "text/x-python",
      "name": "python",
      "nbconvert_exporter": "python",
      "pygments_lexer": "ipython3",
      "version": "3.8"
    }
  },
  "nbformat": 4,
  "nbformat_minor": 4
}
